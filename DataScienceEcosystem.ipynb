{
 "cells": [
  {
   "cell_type": "markdown",
   "metadata": {},
   "source": [
    "<h1><strong>Data Science Tools and Ecosystem</strong></h1>\n"
   ]
  },
  {
   "cell_type": "markdown",
   "metadata": {},
   "source": [
    "<h2> <strong>Introduction: </strong></h2>\n",
    "\n",
    "> **In this notebook project. We will talk on the most important programming languages, libraries, tools, and the ecosystem used in data science. Also, providing examples using code on arithmetic expression, multiplying, adding numbers, and converting minutes to hours using code.**<br>"
   ]
  },
  {
   "cell_type": "markdown",
   "metadata": {},
   "source": [
    "<strong>Objectives:</strong>\n",
    "\n",
    "\n",
    "<ul>\n",
    "\n",
    "<li><a href=\"#languages\">List important of programming languages used in Data Science.</a></li>\n",
    "<li><a href=\"#libraries\">The most important of libraries used in data science.</a></li>\n",
    "<li><a href=\"#tools\">Table important of tools used in data science and the ecosystem.</a></li>\n",
    "<li><a href=\"#arithmetic\">Examples of arithmetic expression using code in Python.</a></li>\n",
    "\n",
    "</ul><br>\n",
    "<br>\n",
    "\n",
    "\n"
   ]
  },
  {
   "cell_type": "markdown",
   "metadata": {},
   "source": [
    "<a id='languages'></a>\n",
    "**List important of programming languages used in Data Science:**\n",
    "\n",
    "<ol>\n",
    "    <li>Python.</li>\n",
    "    <li>R.</li>\n",
    "    <li>SQL.</li>\n",
    "    <li>Julia.</li>\n",
    "    <li>Scala.</li>\n",
    "    <li>Matlab.</li>\n",
    "    <li>Java.</li>\n",
    "    <li>C++.</li>\n",
    "</ol><br>"
   ]
  },
  {
   "cell_type": "markdown",
   "metadata": {},
   "source": [
    "<a id='libraries'></a>\n",
    "**The most important of libraries used in data science:**\n",
    "\n",
    "<ol>\n",
    "    <li>NumPy.</li>\n",
    "    <li>Pandas.</li>    \n",
    "    <li>Matplotlib.</li>\n",
    "    <li>Seaborn.</li>\n",
    "    <li>Plotly.</li>\n",
    "    <li>BeautifulSoup.</li>\n",
    "    <li>SciKit-Learn.</li>\n",
    "    <li>SciPy.</li>\n",
    "    <li>TensorFlow.</li>\n",
    "    <li>PyTorch.</li>\n",
    "    <li>Scrapy.</li>\n",
    "    <li>Keras.</li>\n",
    "    <li>NLTK.</li>\n",
    "    <li>LightGBM.</li>\n",
    "    <li>XGBoost.</li>\n",
    "    <li>Statsmodels.</li>\n",
    "    <li>H2O.ai.</li>\n",
    "    <li>Theano.</li>\n",
    "    <li>Caffe.</li>\n",
    "    <li>Deeplearning4j.</li>\n",
    "    <li>Neuroph.</li>\n",
    "    <li>NuPIC.</li>\n",
    "    <li>MXNet.</li>\n",
    "   <li>Caffe2.</li>\n",
    "    <li>Chainer.</li>\n",
    "</ol><br>"
   ]
  },
  {
   "cell_type": "markdown",
   "metadata": {},
   "source": [
    "<a id='tools'></a>\n",
    "**Table important of tools used in data science and the ecosystem:**\n",
    "\n",
    "\n",
    "<table style=\"width:100%\">\n",
    "    \n",
    "  <tr>\n",
    "    <th>Data Science Tools</th>\n",
    "    <th></th>\n",
    "    <th></th>\n",
    "  </tr>\n",
    "  \n",
    "  <tr>\n",
    "    <td>Anaconda</td>\n",
    "    <td></td>\n",
    "    <td></td>\n",
    "  </tr>\n",
    "\n",
    "  <tr>\n",
    "    <td>RStudio </td>\n",
    "    <td></td>\n",
    "    <td></td>\n",
    "  </tr>\n",
    "\n",
    "  <tr>\n",
    "    <td>Apache Spark</td>\n",
    "    <td></td>\n",
    "    <td></td>\n",
    "  </tr>\n",
    " \n",
    "</table>\n",
    "<br>"
   ]
  },
  {
   "cell_type": "markdown",
   "metadata": {},
   "source": [
    "<a id='arithmetic'></a>\n",
    "\n",
    "<h3>Examples of arithmetic expression using code in Python.</h3>"
   ]
  },
  {
   "cell_type": "code",
   "execution_count": 20,
   "metadata": {},
   "outputs": [
    {
     "name": "stdout",
     "output_type": "stream",
     "text": [
      "Output of Multiplying then Adding integers {(3*4) + 5}: 17.0\n"
     ]
    }
   ],
   "source": [
    "# Example of arithmetic expression to multiplying then adding integers.\n",
    "x = (3*4)+5. \n",
    "\n",
    "print(\"Output of Multiplying then Adding integers {(3*4) + 5}:\", x)\n"
   ]
  },
  {
   "cell_type": "code",
   "execution_count": 21,
   "metadata": {},
   "outputs": [
    {
     "name": "stdout",
     "output_type": "stream",
     "text": [
      "200 minutes is equal to 3.3333333333333335 hours.\n"
     ]
    }
   ],
   "source": [
    "# Example of converting 200 minutes to hours by diving by 60.\n",
    "minutes = 200\n",
    "hours = minutes / 60\n",
    "print(f\"{minutes} minutes is equal to {hours} hours.\")\n"
   ]
  },
  {
   "cell_type": "markdown",
   "metadata": {},
   "source": [
    "<h2>Author:</h2>\n",
    "Omar Ihwainish"
   ]
  }
 ],
 "metadata": {
  "kernelspec": {
   "display_name": "Python 3 (ipykernel)",
   "language": "python",
   "name": "python3"
  },
  "language_info": {
   "codemirror_mode": {
    "name": "ipython",
    "version": 3
   },
   "file_extension": ".py",
   "mimetype": "text/x-python",
   "name": "python",
   "nbconvert_exporter": "python",
   "pygments_lexer": "ipython3",
   "version": "3.11.7"
  }
 },
 "nbformat": 4,
 "nbformat_minor": 4
}
